{
 "cells": [
  {
   "cell_type": "code",
   "execution_count": 1,
   "id": "eb03086b-f7b2-4f9a-ad89-0496e4484e1e",
   "metadata": {},
   "outputs": [],
   "source": [
    "import json\n",
    "\n",
    "# Load the existing JSON data\n",
    "with open('transaction_logs.json', 'r') as file:\n",
    "    data = json.load(file)\n",
    "\n",
    "\"\"\"Extract 'order_id', 'payment_txn_id', 'payment_type', failure_reason', \n",
    "'payment_txn_success' for the new JSON file\"\"\"\n",
    "extracted_data = [{\n",
    "    'order_id': record['order_id'], \n",
    "    'payment_txn_id': record['payment_txn_id'], \n",
    "    'payment_type': record['payment_type'], \n",
    "    'failure_reason': record['failure_reason'],\n",
    "    'payment_txn_success': record['payment_txn_success']\n",
    "} for record in data]\n",
    "\n",
    "# Save the extracted data to a new JSON file\n",
    "with open('payment_details.json', 'w') as file:\n",
    "    json.dump(extracted_data, file, indent=4)\n",
    "\n",
    "# Remove 'product_name' and 'product_category' from the original data\n",
    "for record in data:\n",
    "    record.pop('payment_txn_id', None)\n",
    "    record.pop('payment_type', None)\n",
    "    record.pop('failure_reason', None)\n",
    "    record.pop('payment_txn_success', None)\n",
    "\n",
    "# Save the modified data to a new JSON file\n",
    "with open('transaction_logs_cleaned.json', 'w') as file:\n",
    "    json.dump(data, file, indent=4)"
   ]
  },
  {
   "cell_type": "code",
   "execution_count": 3,
   "id": "a31385cb-ff98-4c0b-90ad-f081af2c73d5",
   "metadata": {},
   "outputs": [],
   "source": [
    "#reading the json files\n",
    "import pandas as pd\n",
    "\n",
    "customers_df= pd.read_json('customers.json')\n",
    "transactionlogs_df=pd.read_json('transaction_logs_cleaned.json')\n",
    "paymentdetails_df=pd.read_json('payment_details.json')\n",
    "\n",
    "customers_dict=customers_df.to_dict()\n",
    "transactionlogs_dict=transactionlogs_df.to_dict()\n",
    "paymentdetails_dict=paymentdetails_df.to_dict()"
   ]
  },
  {
   "cell_type": "code",
   "execution_count": 4,
   "id": "a49b8612-6f24-4009-9d48-c44e69b0853f",
   "metadata": {},
   "outputs": [],
   "source": [
    "import database_creation\n",
    "import customer_table_creation\n",
    "import transactionlogs_table_creation\n",
    "import payments_table_creation"
   ]
  },
  {
   "cell_type": "code",
   "execution_count": 5,
   "id": "f43631f5-2eb1-461d-b65a-e2da711ddc66",
   "metadata": {},
   "outputs": [],
   "source": [
    "# Call functions to create database, table and insert data\n",
    "database_creation.create_database()\n",
    "\n",
    "customer_table_creation.create_customers_table()\n",
    "customer_table_creation.insert_customers(customers_dict)\n",
    "\n",
    "transactionlogs_table_creation.create_transactionlogs()\n",
    "transactionlogs_table_creation.insert_transactionlogs(transactionlogs_dict)\n",
    "\n",
    "payments_table_creation.create_paymentsdetails_table()\n",
    "payments_table_creation.insert_payments(paymentdetails_dict)"
   ]
  },
  {
   "cell_type": "code",
   "execution_count": null,
   "id": "fbd9adab-7667-4108-9443-89e86092994e",
   "metadata": {},
   "outputs": [],
   "source": []
  }
 ],
 "metadata": {
  "kernelspec": {
   "display_name": "Python 3 (ipykernel)",
   "language": "python",
   "name": "python3"
  },
  "language_info": {
   "codemirror_mode": {
    "name": "ipython",
    "version": 3
   },
   "file_extension": ".py",
   "mimetype": "text/x-python",
   "name": "python",
   "nbconvert_exporter": "python",
   "pygments_lexer": "ipython3",
   "version": "3.10.1"
  }
 },
 "nbformat": 4,
 "nbformat_minor": 5
}
